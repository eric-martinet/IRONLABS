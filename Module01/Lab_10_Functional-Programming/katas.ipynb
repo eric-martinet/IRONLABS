{
 "cells": [
  {
   "cell_type": "code",
   "execution_count": null,
   "id": "5cc8941d",
   "metadata": {},
   "outputs": [],
   "source": [
    "# Counting sheep\n",
    "# https://www.codewars.com/kata/54edbc7200b811e956000556\n",
    "\n",
    "def count_sheeps(sheep):\n",
    "    return sheep.count(True)"
   ]
  },
  {
   "cell_type": "code",
   "execution_count": null,
   "id": "a301358c",
   "metadata": {},
   "outputs": [],
   "source": [
    "# Removing Elements\n",
    "# https://www.codewars.com/kata/5769b3802ae6f8e4890009d2\n",
    "\n",
    "def remove_every_other(my_list):\n",
    "    return my_list[::2]"
   ]
  },
  {
   "cell_type": "code",
   "execution_count": null,
   "id": "099324d4",
   "metadata": {},
   "outputs": [],
   "source": [
    "# Convert number to reversed array of digits\n",
    "# https://www.codewars.com/kata/5583090cbe83f4fd8c000051\n",
    "\n",
    "def digitize(n):\n",
    "    return [int(i) for i in str(n)[::-1]]"
   ]
  },
  {
   "cell_type": "code",
   "execution_count": null,
   "id": "c066bf7c",
   "metadata": {},
   "outputs": [],
   "source": [
    "# Square every digit\n",
    "# https://www.codewars.com/kata/546e2562b03326a88e000020\n",
    "\n",
    "def square_digits(num):\n",
    "    return int(\"\".join([str(int(i)**2) for i in str(num)]))"
   ]
  },
  {
   "cell_type": "code",
   "execution_count": null,
   "id": "dcf379fe",
   "metadata": {},
   "outputs": [],
   "source": [
    "# Method For Counting Total Occurence Of Specific Digits\n",
    "# https://www.codewars.com/kata/56311e4fdd811616810000ce\n",
    "\n",
    "import re\n",
    "\n",
    "class List(object):\n",
    "    def count_spec_digits(self, integers_list, digits_list):\n",
    "        list_return = []\n",
    "        for d in digits_list:\n",
    "            for i in integers_list:\n",
    "                count = len(re.findall(str(d), str(i)))\n",
    "            list_return.append((d, count))\n",
    "        return list_return\n",
    "    \n",
    "# One-liner using list comprehension and str.count()\n",
    "# The count() method returns the number of occurrences of a substring in the given string.\n",
    "class List(object):\n",
    "    def count_spec_digits(self, integers_list, digits_list):\n",
    "        return [(d, sum(str(i).count(str(d)) for i in integers_list)) for d in digits_list]"
   ]
  }
 ],
 "metadata": {
  "kernelspec": {
   "display_name": "Python 3 (ipykernel)",
   "language": "python",
   "name": "python3"
  },
  "language_info": {
   "codemirror_mode": {
    "name": "ipython",
    "version": 3
   },
   "file_extension": ".py",
   "mimetype": "text/x-python",
   "name": "python",
   "nbconvert_exporter": "python",
   "pygments_lexer": "ipython3",
   "version": "3.9.7"
  }
 },
 "nbformat": 4,
 "nbformat_minor": 5
}
