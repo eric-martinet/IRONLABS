{
 "cells": [
  {
   "cell_type": "markdown",
   "metadata": {},
   "source": [
    "# Loops\n",
    "\n",
    "Complete the following set of exercises to solidify your knowledge for Loops."
   ]
  },
  {
   "cell_type": "markdown",
   "metadata": {},
   "source": [
    "#### 1. Print first 10 natural numbers using while loop"
   ]
  },
  {
   "cell_type": "code",
   "execution_count": 2,
   "metadata": {},
   "outputs": [
    {
     "name": "stdout",
     "output_type": "stream",
     "text": [
      "1\n",
      "2\n",
      "3\n",
      "4\n",
      "5\n",
      "6\n",
      "7\n",
      "8\n",
      "9\n",
      "10\n"
     ]
    }
   ],
   "source": [
    "i = 0\n",
    "\n",
    "while i < 10:\n",
    "    i +=1\n",
    "    print(i)"
   ]
  },
  {
   "cell_type": "markdown",
   "metadata": {},
   "source": [
    "#### 2. Display numbers from a list using loop\n",
    "Write a program to display only those numbers from a list that satisfy the following conditions\n",
    "\n",
    "The number must be divisible by five\n",
    "\n",
    "If the number is greater than 150, then skip it and move to the next number\n",
    "\n",
    "If the number is greater than 500, then stop the loop\n",
    "\n",
    "numbers = [12, 75, 150, 180, 145, 525, 50]"
   ]
  },
  {
   "cell_type": "code",
   "execution_count": 5,
   "metadata": {},
   "outputs": [
    {
     "name": "stdout",
     "output_type": "stream",
     "text": [
      "75\n",
      "150\n",
      "145\n"
     ]
    }
   ],
   "source": [
    "numbers = [12, 75, 150, 180, 145, 525, 50]\n",
    "\n",
    "for n in numbers:\n",
    "    if n > 500:\n",
    "        break\n",
    "    if n > 150: # OK as condition check comes after 'n > 500', otherwise write 'if n > 150 and n <= 500'\n",
    "        continue\n",
    "    if n%5 == 0:\n",
    "        print(n)"
   ]
  },
  {
   "cell_type": "markdown",
   "metadata": {},
   "source": [
    "#### 3.Write a Python program to check the validity of a password (input from users).\n",
    "\n",
    "Validation :\n",
    "\n",
    "At least 1 letter between [a-z] and 1 letter between [A-Z].\n",
    "\n",
    "At least 1 number between [0-9].\n",
    "\n",
    "At least 1 character from [$#@].\n",
    "\n",
    "Minimum length 6 characters.\n",
    "\n",
    "Maximum length 16 characters."
   ]
  },
  {
   "cell_type": "code",
   "execution_count": 8,
   "metadata": {},
   "outputs": [
    {
     "name": "stdout",
     "output_type": "stream",
     "text": [
      "Please input password: a\n",
      "Your password has 1 characters.\n",
      "Minimum length is 6 characters and maximum length is 16 characters.\n",
      "Please retry.\n",
      "Please input password: b\n",
      "Your password has 1 characters.\n",
      "Minimum length is 6 characters and maximum length is 16 characters.\n",
      "Please retry.\n",
      "Please input password: abcdef\n",
      "Password must contain at least 1 letter between [A-Z].\n",
      "Please retry.\n",
      "Please input password: abcdeF\n",
      "Password must contain at least 1 digit between [0-9].\n",
      "Please retry.\n",
      "Please input password: abcdeF1\n",
      "Password must contain at least 1 character from [$#@].\n",
      "Please retry.\n",
      "Please input password: abcdeF1$\n",
      "Password is valid.\n"
     ]
    }
   ],
   "source": [
    "import re\n",
    "\n",
    "flag_password = False\n",
    "\n",
    "while flag_password == False:\n",
    "    password = input(\"Please input password: \")\n",
    "    if len(password) < 6 or len(password) > 16:\n",
    "        print(f\"Your password has {len(password):.0f} characters.\")\n",
    "        print(\"Minimum length is 6 characters and maximum length is 16 characters.\")\n",
    "        print(\"Please retry.\")\n",
    "        continue\n",
    "    elif not re.search('[a-z]', password):\n",
    "        print(\"Password must contain at least 1 letter between [a-z].\")\n",
    "        print(\"Please retry.\")\n",
    "        continue    \n",
    "    elif not re.search('[A-Z]', password):\n",
    "        print(\"Password must contain at least 1 letter between [A-Z].\")\n",
    "        print(\"Please retry.\")\n",
    "        continue\n",
    "    elif not re.search('[0-9]', password):\n",
    "        print(\"Password must contain at least 1 digit between [0-9].\")\n",
    "        print(\"Please retry.\")\n",
    "        continue\n",
    "    elif not re.search('[$#@]', password):\n",
    "        print(\"Password must contain at least 1 character from [$#@].\")\n",
    "        print(\"Please retry.\")\n",
    "        continue\n",
    "    else:\n",
    "        print(\"Password is valid.\")\n",
    "        flag_password = True\n"
   ]
  },
  {
   "cell_type": "markdown",
   "metadata": {},
   "source": [
    "#### 4. Break the loop when x is 6, and see what happens with the else block"
   ]
  },
  {
   "cell_type": "code",
   "execution_count": 13,
   "metadata": {},
   "outputs": [
    {
     "name": "stdout",
     "output_type": "stream",
     "text": [
      "Max value of y = 4\n"
     ]
    }
   ],
   "source": [
    "x = 0\n",
    "\n",
    "while x < 10:\n",
    "    x += 1\n",
    "    if x == 6:\n",
    "        break\n",
    "else:\n",
    "    print(f\"Max value of x = {x}\")\n",
    "    \n",
    "# ELSE block is not executed as the WHILE loop exited with a break\n",
    "\n",
    "y = 0\n",
    "\n",
    "while y < 4:\n",
    "    y += 1\n",
    "    if y == 6:\n",
    "        break\n",
    "else:\n",
    "    print(f\"Max value of y = {y}\")\n",
    "    \n",
    "# ELSE block is executed as the WHILE loop exited 'properly' (not with a break)"
   ]
  },
  {
   "cell_type": "markdown",
   "metadata": {},
   "source": [
    "#### 5. Write a Python program to calculate the sum and average of n integer numbers (input from the user). Input 0 to finish.\n"
   ]
  },
  {
   "cell_type": "code",
   "execution_count": 25,
   "metadata": {},
   "outputs": [
    {
     "name": "stdout",
     "output_type": "stream",
     "text": [
      "Please enter an integer or input 'done' to start calculation: 0\n",
      "Please enter an integer or input 'done' to start calculation: done\n",
      "Starts calculation...\n",
      "The sum of your integers is 0 and the mean is 0\n"
     ]
    }
   ],
   "source": [
    "import statistics\n",
    "\n",
    "flag_input = False\n",
    "\n",
    "user_inputs = []\n",
    "\n",
    "while flag_input == False:\n",
    "    user_input = input(\"Please enter an integer or input 'done' to start calculation: \")\n",
    "    if user_input.replace('-','').isdecimal():\n",
    "        user_inputs.append(int(user_input))\n",
    "    elif user_input == \"done\":\n",
    "        print(\"Starts calculation...\")\n",
    "        flag_input = True # Exits the WHILE loop\n",
    "    else:\n",
    "        print(\"Last input is not a valid integer, starts calculation...\")\n",
    "        flag_input = True # Exits the WHILE loop\n",
    "        \n",
    "if user_inputs != []:\n",
    "    print(f\"The sum of your integers is {sum(user_inputs):.0f} and the mean is {statistics.mean(user_inputs)}\")\n",
    "else:\n",
    "    print(\"You did not input any integer!\")"
   ]
  },
  {
   "cell_type": "code",
   "execution_count": null,
   "metadata": {},
   "outputs": [],
   "source": []
  }
 ],
 "metadata": {
  "kernelspec": {
   "display_name": "Python 3 (ipykernel)",
   "language": "python",
   "name": "python3"
  },
  "language_info": {
   "codemirror_mode": {
    "name": "ipython",
    "version": 3
   },
   "file_extension": ".py",
   "mimetype": "text/x-python",
   "name": "python",
   "nbconvert_exporter": "python",
   "pygments_lexer": "ipython3",
   "version": "3.9.7"
  }
 },
 "nbformat": 4,
 "nbformat_minor": 2
}
