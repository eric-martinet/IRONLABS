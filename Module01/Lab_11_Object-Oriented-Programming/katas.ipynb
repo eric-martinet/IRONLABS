{
 "cells": [
  {
   "cell_type": "code",
   "execution_count": null,
   "id": "4dc4f50e",
   "metadata": {},
   "outputs": [],
   "source": [
    "# Remove All The Marked Elements of a List\n",
    "# https://www.codewars.com/kata/remove-all-the-marked-elements-of-a-list\n",
    "\n",
    "class List:\n",
    "    def remove_(self, integer_list, values_list):\n",
    "        return [i for i in integer_list if not i in values_list]"
   ]
  },
  {
   "cell_type": "code",
   "execution_count": null,
   "id": "a220b324",
   "metadata": {},
   "outputs": [],
   "source": [
    "# Method For Counting Total Occurence Of Specific Digits\n",
    "# https://www.codewars.com/kata/56311e4fdd811616810000ce\n",
    "\n",
    "class List(object):\n",
    "    def count_spec_digits(self, integers_list, digits_list):\n",
    "        return [(d, sum(str(i).count(str(d)) for i in integers_list)) for d in digits_list]"
   ]
  },
  {
   "cell_type": "code",
   "execution_count": null,
   "id": "5a415366",
   "metadata": {},
   "outputs": [],
   "source": [
    "# Ordered Count of Characters\n",
    "# https://www.codewars.com/kata/ordered-count-of-characters\n",
    "\n",
    "# SOLUTION WITHOUT OOC - SEE OOC BELOW\n",
    "\n",
    "def ordered_count(inp):\n",
    "    inp_unique_ordered = []\n",
    "    for c in inp:\n",
    "        if not c in inp_unique_ordered:\n",
    "            inp_unique_ordered.append(c)\n",
    "    return [(d, inp.count(d)) for d in inp_unique_ordered]"
   ]
  },
  {
   "cell_type": "code",
   "execution_count": 2,
   "id": "752eb368",
   "metadata": {},
   "outputs": [
    {
     "data": {
      "text/plain": [
       "[('a', 5), ('b', 2), ('r', 2), ('c', 1), ('d', 1)]"
      ]
     },
     "execution_count": 2,
     "metadata": {},
     "output_type": "execute_result"
    }
   ],
   "source": [
    "# Ordered Count of Characters\n",
    "# https://www.codewars.com/kata/ordered-count-of-characters\n",
    "\n",
    "# SOLUTION OBJECT-ORIENTED PROGRAMMING\n",
    "\n",
    "# OrderedDict is a dictionary subclass specially designed to remember the order of items\n",
    "# which is defined by the insertion order of keys.\n",
    "from collections import OrderedDict, Counter\n",
    "\n",
    "# The new class OrderedCounter inherits from Counter and OrderedDict - and that's it\n",
    "# Counter keeps track of how many times equivalent values are added\n",
    "# OrderedDict enables us to keep the order\n",
    "class OrderedCounter(Counter, OrderedDict):\n",
    "    pass\n",
    "\n",
    "def ordered_count(inp):\n",
    "    return list(OrderedCounter(inp).items())\n",
    "\n",
    "ordered_count(\"abracadabra\")"
   ]
  },
  {
   "cell_type": "code",
   "execution_count": null,
   "id": "cbf5d3c9",
   "metadata": {},
   "outputs": [],
   "source": []
  }
 ],
 "metadata": {
  "kernelspec": {
   "display_name": "Python 3 (ipykernel)",
   "language": "python",
   "name": "python3"
  },
  "language_info": {
   "codemirror_mode": {
    "name": "ipython",
    "version": 3
   },
   "file_extension": ".py",
   "mimetype": "text/x-python",
   "name": "python",
   "nbconvert_exporter": "python",
   "pygments_lexer": "ipython3",
   "version": "3.9.7"
  }
 },
 "nbformat": 4,
 "nbformat_minor": 5
}
