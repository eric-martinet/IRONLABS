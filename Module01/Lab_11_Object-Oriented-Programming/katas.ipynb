{
 "cells": [
  {
   "cell_type": "code",
   "execution_count": null,
   "id": "c2b697b8",
   "metadata": {},
   "outputs": [],
   "source": [
    "# Remove All The Marked Elements of a List\n",
    "# https://www.codewars.com/kata/remove-all-the-marked-elements-of-a-list\n",
    "\n",
    "class List:\n",
    "    def remove_(self, integer_list, values_list):\n",
    "        return [i for i in integer_list if not i in values_list]"
   ]
  },
  {
   "cell_type": "code",
   "execution_count": null,
   "id": "b0da6327",
   "metadata": {},
   "outputs": [],
   "source": [
    "# Method For Counting Total Occurence Of Specific Digits\n",
    "# https://www.codewars.com/kata/56311e4fdd811616810000ce\n",
    "\n",
    "class List(object):\n",
    "    def count_spec_digits(self, integers_list, digits_list):\n",
    "        return [(d, sum(str(i).count(str(d)) for i in integers_list)) for d in digits_list]"
   ]
  },
  {
   "cell_type": "code",
   "execution_count": null,
   "id": "81519d1b",
   "metadata": {},
   "outputs": [],
   "source": [
    "# Ordered Count of Characters\n",
    "# https://www.codewars.com/kata/ordered-count-of-characters\n",
    "\n",
    "# SOLUTION WITHOUT OOC - SEE OOC BELOW\n",
    "\n",
    "def ordered_count(inp):\n",
    "    inp_unique_ordered = []\n",
    "    for c in inp:\n",
    "        if not c in inp_unique_ordered:\n",
    "            inp_unique_ordered.append(c)\n",
    "    return [(d, inp.count(d)) for d in inp_unique_ordered]"
   ]
  },
  {
   "cell_type": "code",
   "execution_count": 7,
   "id": "0fb5715f",
   "metadata": {},
   "outputs": [
    {
     "ename": "TypeError",
     "evalue": "'collections.OrderedDict' object is not callable",
     "output_type": "error",
     "traceback": [
      "\u001b[0;31m---------------------------------------------------------------------------\u001b[0m",
      "\u001b[0;31mTypeError\u001b[0m                                 Traceback (most recent call last)",
      "\u001b[0;32m/var/folders/lc/q1lfsr356d11n9j92x9l_x080000gn/T/ipykernel_35261/3966399984.py\u001b[0m in \u001b[0;36m<module>\u001b[0;34m\u001b[0m\n\u001b[1;32m     20\u001b[0m \u001b[0;34m\u001b[0m\u001b[0m\n\u001b[1;32m     21\u001b[0m \u001b[0mordered_dict\u001b[0m \u001b[0;34m=\u001b[0m \u001b[0mOrderedDict\u001b[0m\u001b[0;34m(\u001b[0m\u001b[0;34m)\u001b[0m\u001b[0;34m\u001b[0m\u001b[0;34m\u001b[0m\u001b[0m\n\u001b[0;32m---> 22\u001b[0;31m \u001b[0mordered_dict\u001b[0m\u001b[0;34m(\u001b[0m\u001b[0;34m\"abracadabra\"\u001b[0m\u001b[0;34m)\u001b[0m\u001b[0;34m.\u001b[0m\u001b[0mitems\u001b[0m\u001b[0;34m(\u001b[0m\u001b[0;34m)\u001b[0m\u001b[0;34m\u001b[0m\u001b[0;34m\u001b[0m\u001b[0m\n\u001b[0m",
      "\u001b[0;31mTypeError\u001b[0m: 'collections.OrderedDict' object is not callable"
     ]
    }
   ],
   "source": [
    "# Ordered Count of Characters\n",
    "# https://www.codewars.com/kata/ordered-count-of-characters\n",
    "\n",
    "# SOLUTION OBJECT-ORIENTED PROGRAMMING\n",
    "\n",
    "# OrderedDict is a dictionary subclass specially designed to remember the order of items\n",
    "# which is defined by the insertion order of keys.\n",
    "from collections import OrderedDict, Counter\n",
    "\n",
    "# The new class OrderedCounter inherits from Counter and OrderedDict - and that's it\n",
    "# Counter keeps track of how many times equivalent values are added\n",
    "# OrderedDict enables us to keep the order\n",
    "class OrderedCounter(Counter, OrderedDict):\n",
    "    pass\n",
    "\n",
    "def ordered_count(inp):\n",
    "    return list(OrderedCounter(inp).items())\n",
    "\n",
    "ordered_count(\"abracadabra\")"
   ]
  },
  {
   "cell_type": "code",
   "execution_count": null,
   "id": "2565553a",
   "metadata": {},
   "outputs": [],
   "source": []
  }
 ],
 "metadata": {
  "kernelspec": {
   "display_name": "Python 3 (ipykernel)",
   "language": "python",
   "name": "python3"
  },
  "language_info": {
   "codemirror_mode": {
    "name": "ipython",
    "version": 3
   },
   "file_extension": ".py",
   "mimetype": "text/x-python",
   "name": "python",
   "nbconvert_exporter": "python",
   "pygments_lexer": "ipython3",
   "version": "3.9.7"
  }
 },
 "nbformat": 4,
 "nbformat_minor": 5
}
