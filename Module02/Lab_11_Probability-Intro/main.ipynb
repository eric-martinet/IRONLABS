{
 "cells": [
  {
   "cell_type": "markdown",
   "metadata": {},
   "source": [
    "# Introduction To Probability\n",
    "## Challenge 1\n",
    "\n",
    "A and B are events of a probability space with $(\\omega, \\sigma, P)$ such that $P(A) = 0.3$, $P(B) = 0.6$ and $P(A \\cap B) = 0.1$\n",
    "\n",
    "Which of the following statements are false?\n",
    "* $P(A \\cup B) = 0.6$\n",
    "* $P(A \\cap B^{C}) = 0.2$\n",
    "* $P(A \\cap (B \\cup B^{C})) = 0.4$\n",
    "* $P(A^{C} \\cap B^{C}) = 0.3$\n",
    "* $P((A \\cap B)^{C}) = 0.9$"
   ]
  },
  {
   "cell_type": "markdown",
   "metadata": {},
   "source": [
    "False statements are:\n",
    "* $P(A \\cup B) = 0.6$ as $P(A \\cup B) = P(A) + P(B) - P(A \\cap B) = 0.8$\n",
    "* $P(A \\cap (B \\cup B^{C})) = 0.4$ as $P(A \\cap (B \\cup B^{C})) = P(A) = 0.3$\n",
    "* $P(A^{C} \\cap B^{C}) = 0.3$ as $P(A^{C} \\cap B^{C}) = 1 - P(A) - P(B) + P(A \\cap B) = 0.2$\n",
    "\n",
    "True statements are:\n",
    "* $P(A \\cap B^{C}) = 0.2$ as $P(A \\cap B^{C}) = P(A) - P(A \\cap B)$\n",
    "* $P((A \\cap B)^{C}) = 0.9$ as $P((A \\cap B)^{C}) = 1 - P(A \\cap B)$"
   ]
  },
  {
   "cell_type": "markdown",
   "metadata": {},
   "source": [
    "## Challenge 2\n",
    "There is a box with 10 white balls, 12 red balls and 8 black balls. Calculate the probability of:\n",
    "* Taking a white ball out.\n",
    "* Taking a white ball out after taking a black ball out.\n",
    "* Taking a red ball out after taking a black and a red ball out.\n",
    "* Taking a red ball out after taking a black and a red ball out with reposition.\n",
    "\n",
    "**Hint**: Reposition means putting back the ball into the box after taking it out."
   ]
  },
  {
   "cell_type": "markdown",
   "metadata": {},
   "source": [
    "Let's define the events.\n",
    "* W = {Taking a white ball out}\n",
    "* R = {Taking a red ball out}\n",
    "* B = {Taking a black ball out}\n",
    "\n",
    "Let's compute the probabilities\n",
    "* $P(W) = \\frac{10}{10 + 12 + 8} = 0.5$\n",
    "* $P(W|B) = \\frac{10}{10 + 12 + 8 - 1} = 0.526$\n",
    "* $P(R|(B \\cap R)) = \\frac{12 - 1}{10 + 12 - 1 + 8 -1} = 0.611$\n",
    "* $P(R|(B \\cap R)withreposition) =  \\frac{12}{10 + 12 - 1 + 1+ 8 - 1 + 1} = 0.6 = P(R)$"
   ]
  },
  {
   "cell_type": "markdown",
   "metadata": {},
   "source": [
    "## Challenge 3\n",
    "\n",
    "You are planning to go on a picnic today but the morning is cloudy. You hate rain so you don't know whether to go out or stay home! To help you make a decision, you gather the following data about rainy days:\n",
    "\n",
    "* 50% of all rainy days start off cloudy!\n",
    "* Cloudy mornings are common. About 40% of days start cloudy. \n",
    "* This month is usually dry so only 3 of 30 days (10%) tend to be rainy. \n",
    "\n",
    "What is the chance of rain during the day?"
   ]
  },
  {
   "cell_type": "markdown",
   "metadata": {},
   "source": [
    "Let's define the events.\n",
    "* C = {Cloudy morning}\n",
    "* R = {Rainy day}\n",
    "\n",
    "We have:\n",
    "* $P(C) = 0.4$\n",
    "* $P(R) = 0.1$\n",
    "* $P(C|R) = 0.5$\n",
    "\n",
    "Let's compute the probability (Bayes' formula)\n",
    "* $P(R|C) = \\frac{P(R) \\cdot P(C|R)}{P(C)} = \\frac{0.1 \\cdot 0.5}{0.4} = 0.125$"
   ]
  },
  {
   "cell_type": "markdown",
   "metadata": {},
   "source": [
    "## Challenge 4\n",
    "\n",
    "One thousand people were asked through a telephone survey whether they thought more street lighting is needed at night or not.\n",
    "\n",
    "Out of the 480 men that answered the survey, 324 said yes and 156 said no. On the other hand, out of the 520 women that answered, 351 said yes and 169 said no. \n",
    "\n",
    "We wonder if men and women have a different opinions about the street lighting matter. Is gender relevant or irrelevant to the question?\n",
    "\n",
    "Consider the following events:\n",
    "- The answer is yes, so the person that answered thinks that more street lighting is needed.\n",
    "- The person who answered is a man.\n",
    "\n",
    "We want to know if these events are independent, that is, if the fact of wanting more light depends on whether one is male or female. Are these events independent or not?\n",
    "\n",
    "**Hint**: To clearly compare the answers by gender, it is best to place the data in a table."
   ]
  },
  {
   "cell_type": "markdown",
   "metadata": {},
   "source": [
    "Let's define the events.\n",
    "* M = {Man answers survey}\n",
    "* W = {Woman answers survey} (complementary of M)\n",
    "* Y = {Answer is Yes}\n",
    "* N = {Answer is No} (complementary of Y)\n",
    "\n",
    "We have:\n",
    "* P(M) = 0.48\n",
    "* P(W) = 0.52\n",
    "* P(Y|M) = 324 / 480\n",
    "* P(N|M) = 156 / 480\n",
    "* P(Y|W) = 351 / 520\n",
    "* P(N|W) = 169 / 520\n",
    "\n",
    "We want to know if M and Y are independent, i.e. if \n",
    "* $P(M \\cap Y) = P(M) \\cdot P(Y)$\n",
    "* or $P(M|Y) = P(M)$\n",
    "* or $P(Y|M) = P(Y)$\n",
    "\n",
    "We know that P(Y|M) = 324 / 480 while:\n",
    "* $P(Y) = P(Y|M) \\cdot P(M) + P(Y|W) \\cdot P(W)$ i.e. $P(Y) = \\frac{324}{480} \\cdot \\frac{480}{1000} + \\frac{351}{520} \\cdot \\frac{520}{1000}$\n",
    "* i.e. $P(Y) = \\frac{324}{1000} + \\frac{351}{1000} = \\frac{675}{1000}$\n",
    "* i.e. $P(Y) = P(Y|M)$\n",
    "\n",
    "Both events are independent."
   ]
  }
 ],
 "metadata": {
  "kernelspec": {
   "display_name": "Python 3",
   "language": "python",
   "name": "python3"
  },
  "language_info": {
   "codemirror_mode": {
    "name": "ipython",
    "version": 3
   },
   "file_extension": ".py",
   "mimetype": "text/x-python",
   "name": "python",
   "nbconvert_exporter": "python",
   "pygments_lexer": "ipython3",
   "version": "3.9.7"
  }
 },
 "nbformat": 4,
 "nbformat_minor": 2
}
