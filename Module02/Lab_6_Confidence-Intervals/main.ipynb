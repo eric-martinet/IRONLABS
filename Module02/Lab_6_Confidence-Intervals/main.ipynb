{
 "cells": [
  {
   "cell_type": "markdown",
   "metadata": {
    "toc": true
   },
   "source": [
    "<h1>Table of Contents<span class=\"tocSkip\"></span></h1>\n",
    "<div class=\"toc\"><ul class=\"toc-item\"><li><span><a href=\"#Confidence-Intervals\" data-toc-modified-id=\"Confidence-Intervals-1\"><span class=\"toc-item-num\">1&nbsp;&nbsp;</span>Confidence Intervals</a></span><ul class=\"toc-item\"><li><span><a href=\"#Challenge-1\" data-toc-modified-id=\"Challenge-1-1.1\"><span class=\"toc-item-num\">1.1&nbsp;&nbsp;</span>Challenge 1</a></span></li><li><span><a href=\"#Challenge-2\" data-toc-modified-id=\"Challenge-2-1.2\"><span class=\"toc-item-num\">1.2&nbsp;&nbsp;</span>Challenge 2</a></span></li><li><span><a href=\"#Challenge-3---More-practice\" data-toc-modified-id=\"Challenge-3---More-practice-1.3\"><span class=\"toc-item-num\">1.3&nbsp;&nbsp;</span>Challenge 3 - More practice</a></span></li><li><span><a href=\"#Challenge-4---More-practice\" data-toc-modified-id=\"Challenge-4---More-practice-1.4\"><span class=\"toc-item-num\">1.4&nbsp;&nbsp;</span>Challenge 4 - More practice</a></span></li><li><span><a href=\"#Bonus-Challenge\" data-toc-modified-id=\"Bonus-Challenge-1.5\"><span class=\"toc-item-num\">1.5&nbsp;&nbsp;</span>Bonus Challenge</a></span><ul class=\"toc-item\"><li><ul class=\"toc-item\"><li><span><a href=\"#1.--Determine-what-size-the-selected-sample-of-men-should-be.\" data-toc-modified-id=\"1.--Determine-what-size-the-selected-sample-of-men-should-be.-1.5.0.1\"><span class=\"toc-item-num\">1.5.0.1&nbsp;&nbsp;</span>1.- Determine what size the selected sample of men should be.</a></span></li><li><span><a href=\"#2.--For-the-second-challenge,-we-have-the-following-error:\" data-toc-modified-id=\"2.--For-the-second-challenge,-we-have-the-following-error:-1.5.0.2\"><span class=\"toc-item-num\">1.5.0.2&nbsp;&nbsp;</span>2.- For the second challenge, we have the following error:</a></span></li><li><span><a href=\"#Determine-the-sample-size-required-to-not-exceed-an-error-of-1%-with-a-confidence-of-80%.\" data-toc-modified-id=\"Determine-the-sample-size-required-to-not-exceed-an-error-of-1%-with-a-confidence-of-80%.-1.5.0.3\"><span class=\"toc-item-num\">1.5.0.3&nbsp;&nbsp;</span>Determine the sample size required to not exceed an error of 1% with a confidence of 80%.</a></span></li></ul></li></ul></li><li><span><a href=\"#Bonus-Challenge\" data-toc-modified-id=\"Bonus-Challenge-1.6\"><span class=\"toc-item-num\">1.6&nbsp;&nbsp;</span>Bonus Challenge</a></span></li></ul></li></ul></div>"
   ]
  },
  {
   "cell_type": "markdown",
   "metadata": {},
   "source": [
    "# Confidence Intervals"
   ]
  },
  {
   "cell_type": "code",
   "execution_count": 42,
   "metadata": {},
   "outputs": [],
   "source": [
    "# Libraries\n",
    "import numpy as np\n",
    "import scipy.stats as st\n",
    "import math"
   ]
  },
  {
   "cell_type": "markdown",
   "metadata": {},
   "source": [
    "## Challenge 1\n",
    "We want to estimate the average size of the men of a country with a confidence level of 80%. Assuming that the standard deviation of the sizes in the population is 4, get the confidence interval with a sample of men selected randomly, whose heights are:\n",
    "\n",
    "````\n",
    "heights = [167, 167, 168, 168, 168, 169, 171, 172, 173, 175, 175, 175, 177, 182, 195]\n",
    "````\n",
    "\n",
    "**Hint**: function `stats.norm.interval` from `scipy` can help you get through this exercise. "
   ]
  },
  {
   "cell_type": "code",
   "execution_count": 60,
   "metadata": {},
   "outputs": [
    {
     "data": {
      "text/plain": [
       "(172.14308590115726, 174.79024743217607)"
      ]
     },
     "execution_count": 60,
     "metadata": {},
     "output_type": "execute_result"
    }
   ],
   "source": [
    "heights = [167, 167, 168, 168, 168, 169, 171, 172, 173, 175, 175, 175, 177, 182, 195]\n",
    "std_dev = 4\n",
    "sem = std_dev / math.sqrt(len(heights))\n",
    "\n",
    "confidenceLevel = .80\n",
    "\n",
    "# Assuming Normal distribution\n",
    "st.norm.interval(alpha = confidenceLevel, loc=np.mean(heights), scale=sem)"
   ]
  },
  {
   "cell_type": "code",
   "execution_count": 61,
   "metadata": {},
   "outputs": [
    {
     "data": {
      "text/plain": [
       "(172.07752526922508, 174.85580806410826)"
      ]
     },
     "execution_count": 61,
     "metadata": {},
     "output_type": "execute_result"
    }
   ],
   "source": [
    "# Assuming Student's t distribution\n",
    "# The T distribution is similar to the normal distribution, just with fatter tails.\n",
    "# Both assume a normally distributed population. T distributions have higher kurtosis than normal distributions.\n",
    "# The probability of getting values very far from the mean is larger with a T distribution than a normal distribution.\n",
    "st.t.interval(alpha = confidenceLevel, df = len(heights)-1, loc=np.mean(heights), scale=sem)"
   ]
  },
  {
   "cell_type": "markdown",
   "metadata": {},
   "source": [
    "## Challenge 2 \n",
    "In a sample of 105 shops selected randomly from an area, we note that 27 of them have had losses in this month. Get an interval for the proportion of businesses in the area with losses to a confidence level of 80% and a confidence level of 90%.\n",
    "\n",
    "**Hint**: function `stats.norm.interval` from `scipy` can help you get through this exercise. "
   ]
  },
  {
   "cell_type": "code",
   "execution_count": 52,
   "metadata": {},
   "outputs": [
    {
     "name": "stdout",
     "output_type": "stream",
     "text": [
      "Confidence interval for 0.8 confidence level: \n",
      "(0.2022192186195171, 0.31206649566619715)\n",
      "Confidence interval for 0.9 confidence level: \n",
      "(0.18664913027350827, 0.3276365840122059)\n"
     ]
    }
   ],
   "source": [
    "cfLs = [.80, .90]\n",
    "n = 105\n",
    "with_losses = 27\n",
    "p = with_losses / n\n",
    "\n",
    "# Bernoulli variable: standard deviation is equal to the square root of [(p * (1-p)) / (n-1)] (n-1 as we are using a sample)\n",
    "sem = math.sqrt(p * (1 - p) / (n-1))\n",
    "\n",
    "for cfL in cfLs:\n",
    "    print(f'Confidence interval for {cfL} confidence level: ')\n",
    "    print(st.norm.interval(alpha = cfL, loc = p, scale = sem))"
   ]
  },
  {
   "cell_type": "code",
   "execution_count": null,
   "metadata": {},
   "outputs": [
    {
     "data": {
      "text/plain": [
       "0.43705881545081005"
      ]
     },
     "metadata": {},
     "output_type": "display_data"
    }
   ],
   "source": [
    "success = [1] * 27\n",
    "no_success = [0] * (105-27)\n",
    "my_lst = success + no_success\n",
    "np.std(my_lst)"
   ]
  },
  {
   "cell_type": "markdown",
   "metadata": {},
   "source": [
    "## Challenge 3 - More practice\n",
    "For the same example in challenge 1, calculate a confidence interval for the variance at 90% level.\n",
    "\n",
    "**Hint**: function `stats.chi2.interval` from `scipy` can help you get through this exercise. "
   ]
  },
  {
   "cell_type": "code",
   "execution_count": 67,
   "metadata": {},
   "outputs": [
    {
     "data": {
      "text/plain": [
       "(57.08618693934489, 74.20034686039612)"
      ]
     },
     "execution_count": 67,
     "metadata": {},
     "output_type": "execute_result"
    }
   ],
   "source": [
    "heights = [167, 167, 168, 168, 168, 169, 171, 172, 173, 175, 175, 175, 177, 182, 195]\n",
    "std_sizes = 4\n",
    "sem = 4 / math.sqrt(len(heights))\n",
    "\n",
    "st.chi2.interval(alpha = 0.90, df = len(heights)-1, loc=np.var(heights)) # No scale required"
   ]
  },
  {
   "cell_type": "markdown",
   "metadata": {},
   "source": [
    "## Challenge 4 - More practice\n",
    "The sulfuric acid content of 7 similar containers is 9.8, 10.2, 10.4, 9.8, 10.0, 10.2 and 9.6 liters. Calculate a 95% confidence interval for the average content of all containers assuming an approximately normal distribution.\n",
    "\n",
    "```\n",
    "acid = [9.8, 10.2, 10.4, 9.8, 10.0, 10.2, 9.6]\n",
    "```\n",
    "\n",
    "**Hint**: function `stats.t.interval` from `scipy` can help you get through this exercise. "
   ]
  },
  {
   "cell_type": "code",
   "execution_count": 66,
   "metadata": {},
   "outputs": [
    {
     "data": {
      "text/plain": [
       "(9.738414120176683, 10.261585879823317)"
      ]
     },
     "execution_count": 66,
     "metadata": {},
     "output_type": "execute_result"
    }
   ],
   "source": [
    "acid = [9.8, 10.2, 10.4, 9.8, 10.0, 10.2, 9.6]\n",
    "\n",
    "st.t.interval(alpha = 0.95, df = len(acid)-1, loc = np.mean(acid), scale = st.sem(acid))"
   ]
  },
  {
   "cell_type": "markdown",
   "metadata": {},
   "source": [
    "## Bonus Challenge\n",
    "The error level or sampling error for the first challenge is given by the following expression:\n",
    "$$Error = z_{\\frac{\\alpha}{2}}\\frac{\\sigma}{\\sqrt n}$$\n",
    "Where z represents the value for N(0,1)\n",
    "\n",
    "\n",
    "Suppose that with the previous data of challenge 1, and with a confidence level of\n",
    "99% (that is, almost certainly) we want to estimate the average population size, so that the error level committed is not greater than half a centimeter.\n",
    "\n",
    "#### 1.- Determine what size the selected sample of men should be."
   ]
  },
  {
   "cell_type": "code",
   "execution_count": 74,
   "metadata": {},
   "outputs": [
    {
     "data": {
      "text/plain": [
       "425"
      ]
     },
     "execution_count": 74,
     "metadata": {},
     "output_type": "execute_result"
    }
   ],
   "source": [
    "# We want Error <= 0.5\n",
    "# i.e. z(a/2) * std_dev / sqrt(n) <= 0.5\n",
    "# n being unknown here\n",
    "# i.e. z(a/2) * std_dev / 0.5 <= sqrt(n)\n",
    "# i.e. n >= (z(a/2) * std_dev / 0.5) ** 2\n",
    "\n",
    "confidenceLevel = .99\n",
    "numOfTails      = 2\n",
    "alpha           = (1 - confidenceLevel)/numOfTails\n",
    "z_critical      = stats.norm.ppf(1 - alpha)\n",
    "\n",
    "std_dev = 4\n",
    "\n",
    "max_error = 0.5\n",
    "\n",
    "n_min = int(((z_critical * std_dev) / (max_error)) ** 2) + 1\n",
    "n_min"
   ]
  },
  {
   "cell_type": "markdown",
   "metadata": {},
   "source": [
    "#### 2.- For the second challenge, we have the following error:\n",
    "$$ Error = z_{\\frac{\\alpha}{2}}\\sqrt{\\frac{p\\times q}{n}} $$\n",
    "#### Determine the sample size required to not exceed an error of 1% with a confidence of 80%."
   ]
  },
  {
   "cell_type": "code",
   "execution_count": 73,
   "metadata": {},
   "outputs": [
    {
     "data": {
      "text/plain": [
       "3138"
      ]
     },
     "execution_count": 73,
     "metadata": {},
     "output_type": "execute_result"
    }
   ],
   "source": [
    "confidenceLevel = .80\n",
    "numOfTails      = 2\n",
    "alpha           = (1 - confidenceLevel)/numOfTails\n",
    "z_critical      = stats.norm.ppf(1 - alpha)\n",
    "\n",
    "p = 27/105 # best estimate\n",
    "q = 1 - p\n",
    "\n",
    "max_error = 0.01\n",
    "\n",
    "n_min = int((z_critical ** 2) * (p * q) / (max_error ** 2)) + 1\n",
    "n_min"
   ]
  },
  {
   "cell_type": "markdown",
   "metadata": {},
   "source": [
    "## Bonus Challenge\n",
    "\n",
    "Let's consider the following problem:\n",
    "\n",
    "Build a confidence interval of 94% for the real difference between the durations of two brands of spotlights, if a sample of 40 spotlights taken randomly from the first mark gave an average duration of 418 hours, and a sample of 50 bulbs of another brand gave a duration average of 402 hours. The standard deviations of the two\n",
    "populations are 26 hours and 22 hours, respectively.\n",
    "\n",
    "Sometimes, we will be interested in the difference of two different groups of random variables. We can also build a confidence interval for that! We have some different cases regarding the variance but for this specific case (the variance are different and known), we have that:\n",
    "\n",
    "$$\\overline{X} - \\overline{Y}  \\sim N(\\mu_{X} - \\mu_{Y} , \\sqrt{\\frac{\\sigma_{X}^2}{n_X}+\\frac{\\sigma_{Y}^2}{n_Y}})$$\n",
    "\n",
    "Solve the problem with this information."
   ]
  },
  {
   "cell_type": "code",
   "execution_count": 78,
   "metadata": {},
   "outputs": [
    {
     "data": {
      "text/plain": [
       "(6.303419026585921, 25.69658097341408)"
      ]
     },
     "execution_count": 78,
     "metadata": {},
     "output_type": "execute_result"
    }
   ],
   "source": [
    "confidenceLevel = .94\n",
    "n1 = 40\n",
    "avg1 = 418\n",
    "std1 = 26\n",
    "n2 = 50\n",
    "avg2 = 402\n",
    "std2 = 22\n",
    "\n",
    "# Normal distribution is defined as N(loc, scale)\n",
    "\n",
    "loc = avg1 - avg2\n",
    "\n",
    "scale = math.sqrt((std1**2/n1) + (std2**2/n2))\n",
    "\n",
    "st.norm.interval(alpha = confidenceLevel, loc = loc, scale = scale )\n"
   ]
  }
 ],
 "metadata": {
  "kernelspec": {
   "display_name": "Python 3",
   "language": "python",
   "name": "python3"
  },
  "language_info": {
   "codemirror_mode": {
    "name": "ipython",
    "version": 3
   },
   "file_extension": ".py",
   "mimetype": "text/x-python",
   "name": "python",
   "nbconvert_exporter": "python",
   "pygments_lexer": "ipython3",
   "version": "3.9.7"
  },
  "toc": {
   "base_numbering": 1,
   "nav_menu": {},
   "number_sections": true,
   "sideBar": true,
   "skip_h1_title": false,
   "title_cell": "Table of Contents",
   "title_sidebar": "Contents",
   "toc_cell": true,
   "toc_position": {},
   "toc_section_display": true,
   "toc_window_display": false
  }
 },
 "nbformat": 4,
 "nbformat_minor": 2
}
