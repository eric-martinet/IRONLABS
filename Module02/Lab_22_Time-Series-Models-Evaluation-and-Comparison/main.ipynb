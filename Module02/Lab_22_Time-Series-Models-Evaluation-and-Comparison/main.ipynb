{
 "cells": [
  {
   "cell_type": "code",
   "execution_count": 213,
   "metadata": {},
   "outputs": [],
   "source": [
    "# IMPORT LIBRAIRIES\n",
    "\n",
    "import pandas as pd\n",
    "import numpy as np\n",
    "import matplotlib.pyplot as plt\n",
    "import seaborn as sns\n",
    "import yfinance as yf"
   ]
  },
  {
   "cell_type": "code",
   "execution_count": 214,
   "metadata": {},
   "outputs": [
    {
     "name": "stdout",
     "output_type": "stream",
     "text": [
      "[*********************100%***********************]  1 of 1 completed\n"
     ]
    }
   ],
   "source": [
    "# IMPORT DATA\n",
    "\n",
    "btc = yf.download(tickers = 'BTC-USD')[['Close']]\n",
    "btc.index = pd.DatetimeIndex(btc.index.values, freq = btc.index.inferred_freq)"
   ]
  },
  {
   "cell_type": "code",
   "execution_count": 215,
   "metadata": {},
   "outputs": [
    {
     "data": {
      "text/html": [
       "<div>\n",
       "<style scoped>\n",
       "    .dataframe tbody tr th:only-of-type {\n",
       "        vertical-align: middle;\n",
       "    }\n",
       "\n",
       "    .dataframe tbody tr th {\n",
       "        vertical-align: top;\n",
       "    }\n",
       "\n",
       "    .dataframe thead th {\n",
       "        text-align: right;\n",
       "    }\n",
       "</style>\n",
       "<table border=\"1\" class=\"dataframe\">\n",
       "  <thead>\n",
       "    <tr style=\"text-align: right;\">\n",
       "      <th></th>\n",
       "      <th>Close</th>\n",
       "    </tr>\n",
       "  </thead>\n",
       "  <tbody>\n",
       "    <tr>\n",
       "      <th>2014-09-17</th>\n",
       "      <td>457.334015</td>\n",
       "    </tr>\n",
       "    <tr>\n",
       "      <th>2014-09-18</th>\n",
       "      <td>424.440002</td>\n",
       "    </tr>\n",
       "    <tr>\n",
       "      <th>2014-09-19</th>\n",
       "      <td>394.795990</td>\n",
       "    </tr>\n",
       "    <tr>\n",
       "      <th>2014-09-20</th>\n",
       "      <td>408.903992</td>\n",
       "    </tr>\n",
       "    <tr>\n",
       "      <th>2014-09-21</th>\n",
       "      <td>398.821014</td>\n",
       "    </tr>\n",
       "  </tbody>\n",
       "</table>\n",
       "</div>"
      ],
      "text/plain": [
       "                 Close\n",
       "2014-09-17  457.334015\n",
       "2014-09-18  424.440002\n",
       "2014-09-19  394.795990\n",
       "2014-09-20  408.903992\n",
       "2014-09-21  398.821014"
      ]
     },
     "execution_count": 215,
     "metadata": {},
     "output_type": "execute_result"
    }
   ],
   "source": [
    "# CHECK DATA\n",
    "\n",
    "btc.head()"
   ]
  },
  {
   "cell_type": "code",
   "execution_count": 216,
   "metadata": {},
   "outputs": [
    {
     "data": {
      "image/png": "[encoded data removed]",
      "text/plain": [
       "<Figure size 432x288 with 1 Axes>"
      ]
     },
     "metadata": {
      "needs_background": "light"
     },
     "output_type": "display_data"
    }
   ],
   "source": [
    "# PLOT DATA\n",
    "\n",
    "fig = plt.figure()\n",
    "ax = fig.add_subplot(111)\n",
    "sns.lineplot(x = btc.index, y='Close', data = btc, ax = ax)\n",
    "ax.set_title('BTC-USD')\n",
    "ax.set_ylabel('Closing price')\n",
    "plt.show()"
   ]
  },
  {
   "cell_type": "code",
   "execution_count": 217,
   "metadata": {},
   "outputs": [
    {
     "name": "stderr",
     "output_type": "stream",
     "text": [
      "/var/folders/lc/q1lfsr356d11n9j92x9l_x080000gn/T/ipykernel_80924/2480330467.py:3: SettingWithCopyWarning: \n",
      "A value is trying to be set on a copy of a slice from a DataFrame\n",
      "\n",
      "See the caveats in the documentation: https://pandas.pydata.org/pandas-docs/stable/user_guide/indexing.html#returning-a-view-versus-a-copy\n",
      "  btc.drop(idx_todrop, inplace=True)\n"
     ]
    }
   ],
   "source": [
    "# Let's consider only data since Jan 2021\n",
    "idx_todrop = pd.date_range(start = btc.iloc[0].name.date(), end = '2021-12-31')\n",
    "btc.drop(idx_todrop, inplace=True)"
   ]
  },
  {
   "cell_type": "code",
   "execution_count": 218,
   "metadata": {},
   "outputs": [
    {
     "data": {
      "text/html": [
       "<div>\n",
       "<style scoped>\n",
       "    .dataframe tbody tr th:only-of-type {\n",
       "        vertical-align: middle;\n",
       "    }\n",
       "\n",
       "    .dataframe tbody tr th {\n",
       "        vertical-align: top;\n",
       "    }\n",
       "\n",
       "    .dataframe thead th {\n",
       "        text-align: right;\n",
       "    }\n",
       "</style>\n",
       "<table border=\"1\" class=\"dataframe\">\n",
       "  <thead>\n",
       "    <tr style=\"text-align: right;\">\n",
       "      <th></th>\n",
       "      <th>Close</th>\n",
       "    </tr>\n",
       "  </thead>\n",
       "  <tbody>\n",
       "    <tr>\n",
       "      <th>2022-01-01</th>\n",
       "      <td>47686.812500</td>\n",
       "    </tr>\n",
       "    <tr>\n",
       "      <th>2022-01-02</th>\n",
       "      <td>47345.218750</td>\n",
       "    </tr>\n",
       "    <tr>\n",
       "      <th>2022-01-03</th>\n",
       "      <td>46458.117188</td>\n",
       "    </tr>\n",
       "    <tr>\n",
       "      <th>2022-01-04</th>\n",
       "      <td>45897.574219</td>\n",
       "    </tr>\n",
       "    <tr>\n",
       "      <th>2022-01-05</th>\n",
       "      <td>43569.003906</td>\n",
       "    </tr>\n",
       "  </tbody>\n",
       "</table>\n",
       "</div>"
      ],
      "text/plain": [
       "                   Close\n",
       "2022-01-01  47686.812500\n",
       "2022-01-02  47345.218750\n",
       "2022-01-03  46458.117188\n",
       "2022-01-04  45897.574219\n",
       "2022-01-05  43569.003906"
      ]
     },
     "execution_count": 218,
     "metadata": {},
     "output_type": "execute_result"
    }
   ],
   "source": [
    "btc.head()"
   ]
  },
  {
   "cell_type": "code",
   "execution_count": 219,
   "metadata": {},
   "outputs": [
    {
     "data": {
      "image/png": "[encoded data removed]",
      "text/plain": [
       "<Figure size 432x288 with 1 Axes>"
      ]
     },
     "metadata": {
      "needs_background": "light"
     },
     "output_type": "display_data"
    }
   ],
   "source": [
    "fig = plt.figure()\n",
    "ax = fig.add_subplot(111)\n",
    "sns.lineplot(x = btc.index, y='Close', data = btc, ax = ax)\n",
    "ax.set_title('BTC-USD')\n",
    "ax.set_ylabel('Closing price')\n",
    "plt.show()"
   ]
  },
  {
   "cell_type": "code",
   "execution_count": 220,
   "metadata": {},
   "outputs": [
    {
     "name": "stdout",
     "output_type": "stream",
     "text": [
      "ADF Test Statistic: -2.36\n",
      "5% Critical Value: -2.90\n",
      "p-value: 0.15\n"
     ]
    }
   ],
   "source": [
    "# CHECK STATIONARITY\n",
    "# From the graph above, we can definitely conclude that there is no stationarity.\n",
    "# Let's confirm this with ADFULLER and KPSS tests.\n",
    "\n",
    "# ADFULLER\n",
    "from statsmodels.tsa.stattools import adfuller\n",
    "\n",
    "result = adfuller(btc.Close)\n",
    "print('ADF Test Statistic: %.2f' % result[0])\n",
    "print('5%% Critical Value: %.2f' % result[4]['5%'])\n",
    "print('p-value: %.2f' % result[1])"
   ]
  },
  {
   "cell_type": "code",
   "execution_count": 221,
   "metadata": {},
   "outputs": [],
   "source": [
    "# p-value of 0.11: the time series is not stationary."
   ]
  },
  {
   "cell_type": "code",
   "execution_count": 222,
   "metadata": {},
   "outputs": [
    {
     "name": "stdout",
     "output_type": "stream",
     "text": [
      "(0.15306325593771658, 0.1, 5, {'10%': 0.347, '5%': 0.463, '2.5%': 0.574, '1%': 0.739})\n",
      "KPSS Test Statistic: 0.15\n",
      "5% Critical Value: 0.46\n",
      "p-value: 0.10\n"
     ]
    },
    {
     "name": "stderr",
     "output_type": "stream",
     "text": [
      "/Users/ericmartinet/opt/anaconda3/lib/python3.9/site-packages/statsmodels/tsa/stattools.py:2022: InterpolationWarning: The test statistic is outside of the range of p-values available in the\n",
      "look-up table. The actual p-value is greater than the p-value returned.\n",
      "\n",
      "  warnings.warn(\n"
     ]
    }
   ],
   "source": [
    "# KPSS\n",
    "from statsmodels.tsa.stattools import kpss\n",
    "\n",
    "result = kpss(btc.Close)\n",
    "print(result)\n",
    "print('KPSS Test Statistic: %.2f' % result[0])\n",
    "print('5%% Critical Value: %.2f' % result[3]['5%'])\n",
    "print('p-value: %.2f' % result[1])"
   ]
  },
  {
   "cell_type": "code",
   "execution_count": 223,
   "metadata": {},
   "outputs": [
    {
     "name": "stdout",
     "output_type": "stream",
     "text": [
      "Stationary time series found with differenciating depth of 1.\n"
     ]
    },
    {
     "name": "stderr",
     "output_type": "stream",
     "text": [
      "/Users/ericmartinet/opt/anaconda3/lib/python3.9/site-packages/statsmodels/tsa/stattools.py:2022: InterpolationWarning: The test statistic is outside of the range of p-values available in the\n",
      "look-up table. The actual p-value is greater than the p-value returned.\n",
      "\n",
      "  warnings.warn(\n",
      "/var/folders/lc/q1lfsr356d11n9j92x9l_x080000gn/T/ipykernel_80924/1061917828.py:15: SettingWithCopyWarning: \n",
      "A value is trying to be set on a copy of a slice from a DataFrame.\n",
      "Try using .loc[row_indexer,col_indexer] = value instead\n",
      "\n",
      "See the caveats in the documentation: https://pandas.pydata.org/pandas-docs/stable/user_guide/indexing.html#returning-a-view-versus-a-copy\n",
      "  btc['Close_stationary'] = make_stationary(btc.Close)\n"
     ]
    }
   ],
   "source": [
    "# p-value above 0.10: the time series is stationary.\n",
    "\n",
    "# KPSS indicates stationarity and ADF indicates non-stationarity - The series is trend stationary.\n",
    "# Trend needs to be removed to make series strict stationary. \n",
    "# Let's create a function to make the time series stationary.\n",
    "\n",
    "def make_stationary(time_series, diff_depth = 10):\n",
    "    for i in range(1, diff_depth+1):\n",
    "        time_series_stationary = time_series.diff(periods = i).dropna()\n",
    "        if (adfuller(time_series_stationary)[1] < 0.05) and (kpss(time_series_stationary)[1] > 0.05):\n",
    "            print(f'Stationary time series found with differenciating depth of {i}.')\n",
    "            return time_series_stationary\n",
    "    return None\n",
    "\n",
    "btc['Close_stationary'] = make_stationary(btc.Close)\n",
    "\n",
    "if not btc.Close_stationary.any():\n",
    "    print('Please increase depth of differenciation.')"
   ]
  },
  {
   "cell_type": "code",
   "execution_count": 224,
   "metadata": {},
   "outputs": [
    {
     "data": {
      "text/html": [
       "<div>\n",
       "<style scoped>\n",
       "    .dataframe tbody tr th:only-of-type {\n",
       "        vertical-align: middle;\n",
       "    }\n",
       "\n",
       "    .dataframe tbody tr th {\n",
       "        vertical-align: top;\n",
       "    }\n",
       "\n",
       "    .dataframe thead th {\n",
       "        text-align: right;\n",
       "    }\n",
       "</style>\n",
       "<table border=\"1\" class=\"dataframe\">\n",
       "  <thead>\n",
       "    <tr style=\"text-align: right;\">\n",
       "      <th></th>\n",
       "      <th>Close</th>\n",
       "      <th>Close_stationary</th>\n",
       "    </tr>\n",
       "  </thead>\n",
       "  <tbody>\n",
       "    <tr>\n",
       "      <th>2022-01-01</th>\n",
       "      <td>47686.812500</td>\n",
       "      <td>NaN</td>\n",
       "    </tr>\n",
       "    <tr>\n",
       "      <th>2022-01-02</th>\n",
       "      <td>47345.218750</td>\n",
       "      <td>-341.593750</td>\n",
       "    </tr>\n",
       "    <tr>\n",
       "      <th>2022-01-03</th>\n",
       "      <td>46458.117188</td>\n",
       "      <td>-887.101562</td>\n",
       "    </tr>\n",
       "    <tr>\n",
       "      <th>2022-01-04</th>\n",
       "      <td>45897.574219</td>\n",
       "      <td>-560.542969</td>\n",
       "    </tr>\n",
       "    <tr>\n",
       "      <th>2022-01-05</th>\n",
       "      <td>43569.003906</td>\n",
       "      <td>-2328.570312</td>\n",
       "    </tr>\n",
       "  </tbody>\n",
       "</table>\n",
       "</div>"
      ],
      "text/plain": [
       "                   Close  Close_stationary\n",
       "2022-01-01  47686.812500               NaN\n",
       "2022-01-02  47345.218750       -341.593750\n",
       "2022-01-03  46458.117188       -887.101562\n",
       "2022-01-04  45897.574219       -560.542969\n",
       "2022-01-05  43569.003906      -2328.570312"
      ]
     },
     "execution_count": 224,
     "metadata": {},
     "output_type": "execute_result"
    }
   ],
   "source": [
    "btc.head()"
   ]
  },
  {
   "cell_type": "code",
   "execution_count": 225,
   "metadata": {},
   "outputs": [
    {
     "data": {
      "image/png": "[encoded data removed]",
      "text/plain": [
       "<Figure size 432x288 with 1 Axes>"
      ]
     },
     "metadata": {
      "needs_background": "light"
     },
     "output_type": "display_data"
    }
   ],
   "source": [
    "# PLOT DATA\n",
    "\n",
    "fig = plt.figure()\n",
    "ax = fig.add_subplot(111)\n",
    "sns.lineplot(x = btc.index, y='Close_stationary', data = btc, ax = ax)\n",
    "ax.set_title('BTC-USD')\n",
    "ax.set_ylabel('Daily % variation of Closing price')\n",
    "plt.show()"
   ]
  },
  {
   "cell_type": "code",
   "execution_count": 229,
   "metadata": {},
   "outputs": [
    {
     "data": {
      "image/png": "[encoded data removed]",
      "text/plain": [
       "<Figure size 432x288 with 1 Axes>"
      ]
     },
     "metadata": {
      "needs_background": "light"
     },
     "output_type": "display_data"
    }
   ],
   "source": [
    "# CHECK AUTO-CORRELATION\n",
    "from statsmodels.graphics.tsaplots import plot_acf\n",
    "# Calculate the ACF (via statsmodel)\n",
    "plot_acf(btc.Close_stationary.dropna(), alpha =0.05, lags=30)\n",
    "# Show the data as a plot (via matplotlib)\n",
    "plt.show()"
   ]
  },
  {
   "cell_type": "code",
   "execution_count": 227,
   "metadata": {},
   "outputs": [],
   "source": [
    "# No auto-correlation of the stationary time series"
   ]
  },
  {
   "cell_type": "code",
   "execution_count": 230,
   "metadata": {},
   "outputs": [
    {
     "name": "stderr",
     "output_type": "stream",
     "text": [
      "/Users/ericmartinet/opt/anaconda3/lib/python3.9/site-packages/statsmodels/graphics/tsaplots.py:348: FutureWarning: The default method 'yw' can produce PACF values outside of the [-1,1] interval. After 0.13, the default will change tounadjusted Yule-Walker ('ywm'). You can use this method now by setting method='ywm'.\n",
      "  warnings.warn(\n"
     ]
    },
    {
     "data": {
      "image/png": "[encoded data removed]",
      "text/plain": [
       "<Figure size 432x288 with 1 Axes>"
      ]
     },
     "metadata": {
      "needs_background": "light"
     },
     "output_type": "display_data"
    }
   ],
   "source": [
    "# PARTIAL AUTO-CORRELATION\n",
    "from statsmodels.graphics.tsaplots import plot_pacf\n",
    "plot_pacf(btc.Close_stationary.dropna(), alpha =0.05, lags= 30)\n",
    "plt.show()"
   ]
  },
  {
   "cell_type": "code",
   "execution_count": null,
   "metadata": {},
   "outputs": [],
   "source": [
    "# No partial auto-correlation of the stationary time series"
   ]
  },
  {
   "cell_type": "code",
   "execution_count": 231,
   "metadata": {},
   "outputs": [
    {
     "data": {
      "text/html": [
       "<div>\n",
       "<style scoped>\n",
       "    .dataframe tbody tr th:only-of-type {\n",
       "        vertical-align: middle;\n",
       "    }\n",
       "\n",
       "    .dataframe tbody tr th {\n",
       "        vertical-align: top;\n",
       "    }\n",
       "\n",
       "    .dataframe thead th {\n",
       "        text-align: right;\n",
       "    }\n",
       "</style>\n",
       "<table border=\"1\" class=\"dataframe\">\n",
       "  <thead>\n",
       "    <tr style=\"text-align: right;\">\n",
       "      <th></th>\n",
       "      <th>MAE</th>\n",
       "      <th>MAPE</th>\n",
       "      <th>MSE</th>\n",
       "      <th>RMSE</th>\n",
       "      <th>NRMSE</th>\n",
       "      <th>AIC</th>\n",
       "      <th>BIC</th>\n",
       "    </tr>\n",
       "  </thead>\n",
       "  <tbody>\n",
       "    <tr>\n",
       "      <th>AR(1)</th>\n",
       "      <td>971.040425</td>\n",
       "      <td>1.074091</td>\n",
       "      <td>2006893.61569</td>\n",
       "      <td>1416.648727</td>\n",
       "      <td>0.145948</td>\n",
       "      <td>1515.459521</td>\n",
       "      <td>1522.857246</td>\n",
       "    </tr>\n",
       "    <tr>\n",
       "      <th>AR(2)</th>\n",
       "      <td>967.477172</td>\n",
       "      <td>1.055473</td>\n",
       "      <td>2000535.049147</td>\n",
       "      <td>1414.402718</td>\n",
       "      <td>0.145716</td>\n",
       "      <td>1517.197709</td>\n",
       "      <td>1527.061341</td>\n",
       "    </tr>\n",
       "    <tr>\n",
       "      <th>AR(3)</th>\n",
       "      <td>965.034168</td>\n",
       "      <td>1.050872</td>\n",
       "      <td>1994530.144653</td>\n",
       "      <td>1412.278352</td>\n",
       "      <td>0.145497</td>\n",
       "      <td>1518.964367</td>\n",
       "      <td>1531.293908</td>\n",
       "    </tr>\n",
       "    <tr>\n",
       "      <th>MA(1)</th>\n",
       "      <td>968.942251</td>\n",
       "      <td>1.075447</td>\n",
       "      <td>2005056.62091</td>\n",
       "      <td>1416.000219</td>\n",
       "      <td>0.145881</td>\n",
       "      <td>1515.380844</td>\n",
       "      <td>1522.778568</td>\n",
       "    </tr>\n",
       "    <tr>\n",
       "      <th>MA(2)</th>\n",
       "      <td>965.867961</td>\n",
       "      <td>1.060297</td>\n",
       "      <td>1997713.093938</td>\n",
       "      <td>1413.404788</td>\n",
       "      <td>0.145613</td>\n",
       "      <td>1517.130462</td>\n",
       "      <td>1526.994094</td>\n",
       "    </tr>\n",
       "    <tr>\n",
       "      <th>MA(3)</th>\n",
       "      <td>962.343652</td>\n",
       "      <td>1.042315</td>\n",
       "      <td>1994094.506249</td>\n",
       "      <td>1412.124111</td>\n",
       "      <td>0.145482</td>\n",
       "      <td>1519.100126</td>\n",
       "      <td>1531.429667</td>\n",
       "    </tr>\n",
       "  </tbody>\n",
       "</table>\n",
       "</div>"
      ],
      "text/plain": [
       "              MAE      MAPE             MSE         RMSE     NRMSE  \\\n",
       "AR(1)  971.040425  1.074091   2006893.61569  1416.648727  0.145948   \n",
       "AR(2)  967.477172  1.055473  2000535.049147  1414.402718  0.145716   \n",
       "AR(3)  965.034168  1.050872  1994530.144653  1412.278352  0.145497   \n",
       "MA(1)  968.942251  1.075447   2005056.62091  1416.000219  0.145881   \n",
       "MA(2)  965.867961  1.060297  1997713.093938  1413.404788  0.145613   \n",
       "MA(3)  962.343652  1.042315  1994094.506249  1412.124111  0.145482   \n",
       "\n",
       "               AIC          BIC  \n",
       "AR(1)  1515.459521  1522.857246  \n",
       "AR(2)  1517.197709  1527.061341  \n",
       "AR(3)  1518.964367  1531.293908  \n",
       "MA(1)  1515.380844  1522.778568  \n",
       "MA(2)  1517.130462  1526.994094  \n",
       "MA(3)  1519.100126  1531.429667  "
      ]
     },
     "execution_count": 231,
     "metadata": {},
     "output_type": "execute_result"
    }
   ],
   "source": [
    "# The time series is now stationary and not auto-correlated, we can implement AR and MA models\n",
    "\n",
    "from statsmodels.tsa.arima.model import ARIMA\n",
    "from sklearn import metrics\n",
    "\n",
    "\n",
    "def implement_arima_model(data, order):\n",
    "    model = ARIMA(data, order = order, freq = 'D')\n",
    "    results = model.fit()\n",
    "    p = order[0]\n",
    "    d = order[1]\n",
    "    q = order[2]\n",
    "    y_true = data.values\n",
    "    y_pred = results.predict(n_periods = len(data))\n",
    "    if p>0:\n",
    "        if q>0:\n",
    "            if d>0:\n",
    "                model_name = f'ARIMA({p},{d},{q})'\n",
    "            else:\n",
    "                model_name = f'ARMA({p},{q})'\n",
    "        else:\n",
    "            model_name = f'AR({p})'\n",
    "    else:\n",
    "        model_name = f'MA({q})'\n",
    "    MAE = metrics.mean_absolute_error(y_true=y_true, y_pred = y_pred)\n",
    "    MAPE = metrics.mean_absolute_percentage_error(y_true=y_true, y_pred = y_pred)\n",
    "    MSE = metrics.mean_squared_error(y_true=y_true, y_pred = y_pred)\n",
    "    RMSE = np.sqrt(metrics.mean_squared_error(y_true=y_true, y_pred = y_pred))\n",
    "    NRMSE = np.sqrt(metrics.mean_squared_error(y_true=y_true, y_pred = y_pred)) / (np.max(y_true) - np.min(y_true))\n",
    "    AIC = results.aic\n",
    "    BIC = results.bic\n",
    "    return [model_name, MAE, MAPE, MSE, RMSE, NRMSE, AIC, BIC]\n",
    "    \n",
    "cols = ['MAE', 'MAPE', 'MSE', 'RMSE', 'NRMSE', 'AIC', 'BIC']\n",
    "\n",
    "df_model_comparison = pd.DataFrame(columns = cols)\n",
    "\n",
    "# AR(1) to AR(3)\n",
    "for p in range(1,3+1):\n",
    "    model_results = implement_arima_model(btc.Close_stationary.dropna(), order = (p,0,0))\n",
    "    df_results = pd.DataFrame([model_results[1:]], index = [model_results[0]], columns = cols)\n",
    "    df_model_comparison = pd.concat([df_model_comparison, df_results])\n",
    "\n",
    "# MA(1) to MA(3)\n",
    "for q in range(1,3+1):\n",
    "    model_results = implement_arima_model(btc.Close_stationary.dropna(), order = (0,0,q))\n",
    "    df_results = pd.DataFrame([model_results[1:]], index = [model_results[0]], columns = cols)\n",
    "    df_model_comparison = pd.concat([df_model_comparison, df_results])\n",
    "\n",
    "df_model_comparison\n"
   ]
  },
  {
   "cell_type": "code",
   "execution_count": null,
   "metadata": {},
   "outputs": [],
   "source": [
    "# These models are all very similar, and not very performant."
   ]
  },
  {
   "cell_type": "code",
   "execution_count": 232,
   "metadata": {},
   "outputs": [
    {
     "name": "stderr",
     "output_type": "stream",
     "text": [
      "/Users/ericmartinet/opt/anaconda3/lib/python3.9/site-packages/statsmodels/tsa/statespace/sarimax.py:966: UserWarning: Non-stationary starting autoregressive parameters found. Using zeros as starting parameters.\n",
      "  warn('Non-stationary starting autoregressive parameters'\n",
      "/Users/ericmartinet/opt/anaconda3/lib/python3.9/site-packages/statsmodels/tsa/statespace/sarimax.py:978: UserWarning: Non-invertible starting MA parameters found. Using zeros as starting parameters.\n",
      "  warn('Non-invertible starting MA parameters found.'\n",
      "/Users/ericmartinet/opt/anaconda3/lib/python3.9/site-packages/statsmodels/tsa/statespace/sarimax.py:966: UserWarning: Non-stationary starting autoregressive parameters found. Using zeros as starting parameters.\n",
      "  warn('Non-stationary starting autoregressive parameters'\n",
      "/Users/ericmartinet/opt/anaconda3/lib/python3.9/site-packages/statsmodels/tsa/statespace/sarimax.py:978: UserWarning: Non-invertible starting MA parameters found. Using zeros as starting parameters.\n",
      "  warn('Non-invertible starting MA parameters found.'\n"
     ]
    },
    {
     "data": {
      "text/html": [
       "<div>\n",
       "<style scoped>\n",
       "    .dataframe tbody tr th:only-of-type {\n",
       "        vertical-align: middle;\n",
       "    }\n",
       "\n",
       "    .dataframe tbody tr th {\n",
       "        vertical-align: top;\n",
       "    }\n",
       "\n",
       "    .dataframe thead th {\n",
       "        text-align: right;\n",
       "    }\n",
       "</style>\n",
       "<table border=\"1\" class=\"dataframe\">\n",
       "  <thead>\n",
       "    <tr style=\"text-align: right;\">\n",
       "      <th></th>\n",
       "      <th>MAE</th>\n",
       "      <th>MAPE</th>\n",
       "      <th>MSE</th>\n",
       "      <th>RMSE</th>\n",
       "      <th>NRMSE</th>\n",
       "      <th>AIC</th>\n",
       "      <th>BIC</th>\n",
       "    </tr>\n",
       "  </thead>\n",
       "  <tbody>\n",
       "    <tr>\n",
       "      <th>AR(1)</th>\n",
       "      <td>971.040425</td>\n",
       "      <td>1.074091</td>\n",
       "      <td>2006893.61569</td>\n",
       "      <td>1416.648727</td>\n",
       "      <td>0.145948</td>\n",
       "      <td>1515.459521</td>\n",
       "      <td>1522.857246</td>\n",
       "    </tr>\n",
       "    <tr>\n",
       "      <th>AR(2)</th>\n",
       "      <td>967.477172</td>\n",
       "      <td>1.055473</td>\n",
       "      <td>2000535.049147</td>\n",
       "      <td>1414.402718</td>\n",
       "      <td>0.145716</td>\n",
       "      <td>1517.197709</td>\n",
       "      <td>1527.061341</td>\n",
       "    </tr>\n",
       "    <tr>\n",
       "      <th>AR(3)</th>\n",
       "      <td>965.034168</td>\n",
       "      <td>1.050872</td>\n",
       "      <td>1994530.144653</td>\n",
       "      <td>1412.278352</td>\n",
       "      <td>0.145497</td>\n",
       "      <td>1518.964367</td>\n",
       "      <td>1531.293908</td>\n",
       "    </tr>\n",
       "    <tr>\n",
       "      <th>MA(1)</th>\n",
       "      <td>968.942251</td>\n",
       "      <td>1.075447</td>\n",
       "      <td>2005056.62091</td>\n",
       "      <td>1416.000219</td>\n",
       "      <td>0.145881</td>\n",
       "      <td>1515.380844</td>\n",
       "      <td>1522.778568</td>\n",
       "    </tr>\n",
       "    <tr>\n",
       "      <th>MA(2)</th>\n",
       "      <td>965.867961</td>\n",
       "      <td>1.060297</td>\n",
       "      <td>1997713.093938</td>\n",
       "      <td>1413.404788</td>\n",
       "      <td>0.145613</td>\n",
       "      <td>1517.130462</td>\n",
       "      <td>1526.994094</td>\n",
       "    </tr>\n",
       "    <tr>\n",
       "      <th>MA(3)</th>\n",
       "      <td>962.343652</td>\n",
       "      <td>1.042315</td>\n",
       "      <td>1994094.506249</td>\n",
       "      <td>1412.124111</td>\n",
       "      <td>0.145482</td>\n",
       "      <td>1519.100126</td>\n",
       "      <td>1531.429667</td>\n",
       "    </tr>\n",
       "    <tr>\n",
       "      <th>ARMA(1,1)</th>\n",
       "      <td>956.527834</td>\n",
       "      <td>1.038526</td>\n",
       "      <td>1990838.059499</td>\n",
       "      <td>1410.970609</td>\n",
       "      <td>0.145363</td>\n",
       "      <td>1516.785362</td>\n",
       "      <td>1526.648995</td>\n",
       "    </tr>\n",
       "    <tr>\n",
       "      <th>ARMA(1,2)</th>\n",
       "      <td>955.971019</td>\n",
       "      <td>1.044002</td>\n",
       "      <td>1975019.721605</td>\n",
       "      <td>1405.353949</td>\n",
       "      <td>0.144784</td>\n",
       "      <td>1518.140086</td>\n",
       "      <td>1530.469626</td>\n",
       "    </tr>\n",
       "    <tr>\n",
       "      <th>ARMA(1,3)</th>\n",
       "      <td>961.895275</td>\n",
       "      <td>1.042954</td>\n",
       "      <td>1993561.368121</td>\n",
       "      <td>1411.935327</td>\n",
       "      <td>0.145462</td>\n",
       "      <td>1521.071771</td>\n",
       "      <td>1535.86722</td>\n",
       "    </tr>\n",
       "    <tr>\n",
       "      <th>ARMA(2,1)</th>\n",
       "      <td>956.563043</td>\n",
       "      <td>1.043052</td>\n",
       "      <td>1975473.934074</td>\n",
       "      <td>1405.51554</td>\n",
       "      <td>0.144801</td>\n",
       "      <td>1518.161263</td>\n",
       "      <td>1530.490803</td>\n",
       "    </tr>\n",
       "    <tr>\n",
       "      <th>ARMA(2,2)</th>\n",
       "      <td>965.200637</td>\n",
       "      <td>1.057066</td>\n",
       "      <td>1957630.718761</td>\n",
       "      <td>1399.153572</td>\n",
       "      <td>0.144145</td>\n",
       "      <td>1519.433048</td>\n",
       "      <td>1534.228497</td>\n",
       "    </tr>\n",
       "    <tr>\n",
       "      <th>ARMA(2,3)</th>\n",
       "      <td>957.560063</td>\n",
       "      <td>1.163078</td>\n",
       "      <td>1940213.593078</td>\n",
       "      <td>1392.915501</td>\n",
       "      <td>0.143503</td>\n",
       "      <td>1520.692674</td>\n",
       "      <td>1537.95403</td>\n",
       "    </tr>\n",
       "    <tr>\n",
       "      <th>ARMA(3,1)</th>\n",
       "      <td>963.287338</td>\n",
       "      <td>1.050808</td>\n",
       "      <td>1992487.92762</td>\n",
       "      <td>1411.555145</td>\n",
       "      <td>0.145423</td>\n",
       "      <td>1520.846238</td>\n",
       "      <td>1535.641686</td>\n",
       "    </tr>\n",
       "    <tr>\n",
       "      <th>ARMA(3,2)</th>\n",
       "      <td>1003.793995</td>\n",
       "      <td>1.497405</td>\n",
       "      <td>1903254.158284</td>\n",
       "      <td>1379.584777</td>\n",
       "      <td>0.142129</td>\n",
       "      <td>1519.609822</td>\n",
       "      <td>1536.871179</td>\n",
       "    </tr>\n",
       "    <tr>\n",
       "      <th>ARMA(3,3)</th>\n",
       "      <td>967.227276</td>\n",
       "      <td>1.366824</td>\n",
       "      <td>1869738.55756</td>\n",
       "      <td>1367.383837</td>\n",
       "      <td>0.140872</td>\n",
       "      <td>1520.750497</td>\n",
       "      <td>1540.477762</td>\n",
       "    </tr>\n",
       "  </tbody>\n",
       "</table>\n",
       "</div>"
      ],
      "text/plain": [
       "                   MAE      MAPE             MSE         RMSE     NRMSE  \\\n",
       "AR(1)       971.040425  1.074091   2006893.61569  1416.648727  0.145948   \n",
       "AR(2)       967.477172  1.055473  2000535.049147  1414.402718  0.145716   \n",
       "AR(3)       965.034168  1.050872  1994530.144653  1412.278352  0.145497   \n",
       "MA(1)       968.942251  1.075447   2005056.62091  1416.000219  0.145881   \n",
       "MA(2)       965.867961  1.060297  1997713.093938  1413.404788  0.145613   \n",
       "MA(3)       962.343652  1.042315  1994094.506249  1412.124111  0.145482   \n",
       "ARMA(1,1)   956.527834  1.038526  1990838.059499  1410.970609  0.145363   \n",
       "ARMA(1,2)   955.971019  1.044002  1975019.721605  1405.353949  0.144784   \n",
       "ARMA(1,3)   961.895275  1.042954  1993561.368121  1411.935327  0.145462   \n",
       "ARMA(2,1)   956.563043  1.043052  1975473.934074   1405.51554  0.144801   \n",
       "ARMA(2,2)   965.200637  1.057066  1957630.718761  1399.153572  0.144145   \n",
       "ARMA(2,3)   957.560063  1.163078  1940213.593078  1392.915501  0.143503   \n",
       "ARMA(3,1)   963.287338  1.050808   1992487.92762  1411.555145  0.145423   \n",
       "ARMA(3,2)  1003.793995  1.497405  1903254.158284  1379.584777  0.142129   \n",
       "ARMA(3,3)   967.227276  1.366824   1869738.55756  1367.383837  0.140872   \n",
       "\n",
       "                   AIC          BIC  \n",
       "AR(1)      1515.459521  1522.857246  \n",
       "AR(2)      1517.197709  1527.061341  \n",
       "AR(3)      1518.964367  1531.293908  \n",
       "MA(1)      1515.380844  1522.778568  \n",
       "MA(2)      1517.130462  1526.994094  \n",
       "MA(3)      1519.100126  1531.429667  \n",
       "ARMA(1,1)  1516.785362  1526.648995  \n",
       "ARMA(1,2)  1518.140086  1530.469626  \n",
       "ARMA(1,3)  1521.071771   1535.86722  \n",
       "ARMA(2,1)  1518.161263  1530.490803  \n",
       "ARMA(2,2)  1519.433048  1534.228497  \n",
       "ARMA(2,3)  1520.692674   1537.95403  \n",
       "ARMA(3,1)  1520.846238  1535.641686  \n",
       "ARMA(3,2)  1519.609822  1536.871179  \n",
       "ARMA(3,3)  1520.750497  1540.477762  "
      ]
     },
     "execution_count": 232,
     "metadata": {},
     "output_type": "execute_result"
    }
   ],
   "source": [
    "# ARMA(1,1) to ARMA(3,3)\n",
    "for p in range(1, 3+1):\n",
    "    for q in range(1,3+1):\n",
    "        model_results = implement_arima_model(btc.Close_stationary.dropna(), order = (p,0,q))\n",
    "        df_results = pd.DataFrame([model_results[1:]], index = [model_results[0]], columns = cols)\n",
    "        df_model_comparison = pd.concat([df_model_comparison, df_results])\n",
    "\n",
    "df_model_comparison"
   ]
  },
  {
   "cell_type": "code",
   "execution_count": 233,
   "metadata": {},
   "outputs": [
    {
     "name": "stdout",
     "output_type": "stream",
     "text": [
      "Performing stepwise search to minimize aic\n",
      " ARIMA(2,0,2)(0,0,0)[0]             : AIC=inf, Time=0.10 sec\n",
      " ARIMA(0,0,0)(0,0,0)[0]             : AIC=2122.335, Time=0.00 sec\n",
      " ARIMA(1,0,0)(0,0,0)[0]             : AIC=inf, Time=0.01 sec\n",
      " ARIMA(0,0,1)(0,0,0)[0]             : AIC=inf, Time=0.03 sec\n",
      " ARIMA(1,0,1)(0,0,0)[0]             : AIC=1539.729, Time=0.03 sec\n",
      " ARIMA(2,0,1)(0,0,0)[0]             : AIC=inf, Time=0.08 sec\n",
      " ARIMA(1,0,2)(0,0,0)[0]             : AIC=1541.446, Time=0.04 sec\n",
      " ARIMA(0,0,2)(0,0,0)[0]             : AIC=inf, Time=0.04 sec\n",
      " ARIMA(2,0,0)(0,0,0)[0]             : AIC=inf, Time=0.01 sec\n",
      " ARIMA(1,0,1)(0,0,0)[0] intercept   : AIC=1532.481, Time=0.02 sec\n",
      " ARIMA(0,0,1)(0,0,0)[0] intercept   : AIC=1590.368, Time=0.03 sec\n",
      " ARIMA(1,0,0)(0,0,0)[0] intercept   : AIC=1532.654, Time=0.01 sec\n",
      " ARIMA(2,0,1)(0,0,0)[0] intercept   : AIC=1534.332, Time=0.05 sec\n",
      " ARIMA(1,0,2)(0,0,0)[0] intercept   : AIC=1534.441, Time=0.02 sec\n",
      " ARIMA(0,0,0)(0,0,0)[0] intercept   : AIC=1660.265, Time=0.01 sec\n",
      " ARIMA(0,0,2)(0,0,0)[0] intercept   : AIC=1565.416, Time=0.05 sec\n",
      " ARIMA(2,0,0)(0,0,0)[0] intercept   : AIC=1532.879, Time=0.02 sec\n",
      " ARIMA(2,0,2)(0,0,0)[0] intercept   : AIC=1536.322, Time=0.07 sec\n",
      "\n",
      "Best model:  ARIMA(1,0,1)(0,0,0)[0] intercept\n",
      "Total fit time: 0.663 seconds\n"
     ]
    }
   ],
   "source": [
    "# ARIMA: using auto_arima\n",
    "import pmdarima as pm\n",
    "model = pm.arima.auto_arima(btc.Close, trace = True, error_action='ignore', suppress_warnings=True, seasonal = False)"
   ]
  },
  {
   "cell_type": "code",
   "execution_count": 234,
   "metadata": {},
   "outputs": [
    {
     "data": {
      "text/plain": [
       "ARIMA(order=(1, 0, 1), scoring_args={}, suppress_warnings=True)"
      ]
     },
     "execution_count": 234,
     "metadata": {},
     "output_type": "execute_result"
    }
   ],
   "source": [
    "model.fit(btc.Close)"
   ]
  },
  {
   "cell_type": "code",
   "execution_count": 246,
   "metadata": {},
   "outputs": [
    {
     "data": {
      "text/html": [
       "<div>\n",
       "<style scoped>\n",
       "    .dataframe tbody tr th:only-of-type {\n",
       "        vertical-align: middle;\n",
       "    }\n",
       "\n",
       "    .dataframe tbody tr th {\n",
       "        vertical-align: top;\n",
       "    }\n",
       "\n",
       "    .dataframe thead th {\n",
       "        text-align: right;\n",
       "    }\n",
       "</style>\n",
       "<table border=\"1\" class=\"dataframe\">\n",
       "  <thead>\n",
       "    <tr style=\"text-align: right;\">\n",
       "      <th></th>\n",
       "      <th>Prediction</th>\n",
       "    </tr>\n",
       "  </thead>\n",
       "  <tbody>\n",
       "    <tr>\n",
       "      <th>2022-03-30</th>\n",
       "      <td>46961.119730</td>\n",
       "    </tr>\n",
       "    <tr>\n",
       "      <th>2022-03-31</th>\n",
       "      <td>46265.936220</td>\n",
       "    </tr>\n",
       "    <tr>\n",
       "      <th>2022-04-01</th>\n",
       "      <td>45668.526947</td>\n",
       "    </tr>\n",
       "    <tr>\n",
       "      <th>2022-04-02</th>\n",
       "      <td>45155.140432</td>\n",
       "    </tr>\n",
       "    <tr>\n",
       "      <th>2022-04-03</th>\n",
       "      <td>44713.959275</td>\n",
       "    </tr>\n",
       "  </tbody>\n",
       "</table>\n",
       "</div>"
      ],
      "text/plain": [
       "              Prediction\n",
       "2022-03-30  46961.119730\n",
       "2022-03-31  46265.936220\n",
       "2022-04-01  45668.526947\n",
       "2022-04-02  45155.140432\n",
       "2022-04-03  44713.959275"
      ]
     },
     "execution_count": 246,
     "metadata": {},
     "output_type": "execute_result"
    }
   ],
   "source": [
    "forecast = model.predict(n_periods = 5)\n",
    "forecast = pd.DataFrame(forecast, columns = ['Prediction'])\n",
    "forecast.set_index(pd.date_range(start = btc.iloc[-1].name.date() + pd.DateOffset(1), end = btc.iloc[-1].name.date() + pd.DateOffset(5)), inplace = True)\n",
    "forecast"
   ]
  },
  {
   "cell_type": "code",
   "execution_count": 247,
   "metadata": {},
   "outputs": [
    {
     "data": {
      "image/png": "[encoded data removed]",
      "text/plain": [
       "<Figure size 432x288 with 1 Axes>"
      ]
     },
     "metadata": {
      "needs_background": "light"
     },
     "output_type": "display_data"
    }
   ],
   "source": [
    "fig = plt.figure()\n",
    "ax = fig.add_subplot(111)\n",
    "sns.lineplot(x = btc.index, y='Close', data = btc, ax = ax, color = \"blue\")\n",
    "sns.lineplot(x = forecast.index , y = 'Prediction', data = forecast, ax = ax, color = \"red\")\n",
    "ax.set_title('BTC-USD')\n",
    "ax.set_ylabel('Closing price')\n",
    "plt.show()"
   ]
  },
  {
   "cell_type": "code",
   "execution_count": null,
   "metadata": {},
   "outputs": [],
   "source": [
    "# BTC price is likely to decrease, I should not buy BTC now."
   ]
  }
 ],
 "metadata": {
  "interpreter": {
   "hash": "678a688bdded96e8eb7e1052de280531e04e436468b7fdb8e1dfed1d052c6017"
  },
  "kernelspec": {
   "display_name": "Python 3.9.7 ('base')",
   "language": "python",
   "name": "python3"
  },
  "language_info": {
   "codemirror_mode": {
    "name": "ipython",
    "version": 3
   },
   "file_extension": ".py",
   "mimetype": "text/x-python",
   "name": "python",
   "nbconvert_exporter": "python",
   "pygments_lexer": "ipython3",
   "version": "3.9.7"
  },
  "orig_nbformat": 4
 },
 "nbformat": 4,
 "nbformat_minor": 2
}
